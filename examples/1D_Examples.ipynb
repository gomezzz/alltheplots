{
 "cells": [
  {
   "cell_type": "code",
   "execution_count": null,
   "id": "8ebac1d8",
   "metadata": {},
   "outputs": [],
   "source": [
    "%load_ext autoreload\n",
    "%autoreload 2"
   ]
  },
  {
   "cell_type": "code",
   "execution_count": null,
   "id": "f9d13fbb",
   "metadata": {},
   "outputs": [],
   "source": [
    "import sys\n",
    "sys.path.append('../')\n",
    "import numpy as np\n",
    "from alltheplots import plot, set_log_level\n",
    "from IPython.display import display\n",
    "from IPython.display import Image\n",
    "\n",
    "import seaborn as sns\n",
    "import matplotlib.pyplot as plt\n",
    "\n",
    "# Set a dark background for the plots\n",
    "sns.set_theme(style=\"ticks\", palette=\"deep\")\n",
    "plt.style.use(\"dark_background\")\n",
    "\n",
    "# Set a bright theme for the plots\n",
    "sns.set_theme(style=\"whitegrid\", palette=\"deep\")\n",
    "\n",
    "# Reset default theme using sns\n",
    "sns.set_theme(style=\"darkgrid\", palette=\"deep\")\n",
    "\n",
    "set_log_level('WARNING')  # Set logging level to INFO\n",
    "\n",
    "# List of arrays to plot sequentially\n",
    "arrays = [\n",
    "    np.random.randn(30),                                          # small normal distribution\n",
    "    np.exp(-np.linspace(0, 5, 200)),                              # exponential decay\n",
    "    np.concatenate([np.zeros(50), np.ones(50)]),                  # step function\n",
    "    np.zeros(500),                                                # sparse with outliers (initial zeros)\n",
    "    (np.linspace(0, 4 * np.pi, 400) % (2 * np.pi)) - np.pi,       # sawtooth wave\n",
    "    np.random.randint(-50, 50, 150),                              # uniform integers\n",
    "    np.linspace(-10, 10, 300)**2 + np.random.normal(0, 10, 300),  # quadratic with noise\n",
    "    np.sin(np.linspace(0, 20, 1000)**2),                          # varying frequency sinusoid\n",
    "    np.logspace(0, 3, 100),                                       # log-spaced data\n",
    "    np.eye(1, 1000, 500).flatten() * 100,                         # single spike\n",
    "]\n",
    "\n",
    "# Add sparse outliers explicitly to the zeros array\n",
    "if len(arrays) > 3:\n",
    "    arrays[3][np.random.choice(500, 5, replace=False)] = np.random.randn(5) * 100\n",
    "\n",
    "# Plotting sequentially with immediate display in Jupyter\n",
    "for arr in arrays:\n",
    "    filename = f'../plot_outputs/plot_{len(arr)}.png'  # Generate a filename based on the array size\n",
    "    plot(arr, filename=filename, show=False)  # Create the plot without displaying it immediately\n",
    "    # Display the plot in Jupyter\n",
    "    display(Image(filename))\n"
   ]
  }
 ],
 "metadata": {
  "kernelspec": {
   "display_name": "atp",
   "language": "python",
   "name": "python3"
  },
  "language_info": {
   "codemirror_mode": {
    "name": "ipython",
    "version": 3
   },
   "file_extension": ".py",
   "mimetype": "text/x-python",
   "name": "python",
   "nbconvert_exporter": "python",
   "pygments_lexer": "ipython3",
   "version": "3.11.11"
  }
 },
 "nbformat": 4,
 "nbformat_minor": 5
}
