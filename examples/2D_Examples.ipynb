{
 "cells": [
  {
   "cell_type": "code",
   "execution_count": null,
   "id": "0b43ef55",
   "metadata": {},
   "outputs": [],
   "source": [
    "%load_ext autoreload\n",
    "%autoreload 2\n",
    "import sys\n",
    "sys.path.append('../')\n",
    "import numpy as np\n",
    "from alltheplots import plot, set_log_level\n",
    "from IPython.display import display\n",
    "from IPython.display import Image\n",
    "\n",
    "import seaborn as sns\n",
    "import matplotlib.pyplot as plt\n",
    "\n",
    "# Set a dark background\n",
    "sns.set_theme(style=\"ticks\", palette=\"deep\")\n",
    "plt.style.use(\"dark_background\")\n",
    "sns.set_theme(style=\"darkgrid\", palette=\"deep\")\n",
    "\n",
    "set_log_level('WARNING')  # Minimal log noise\n",
    "\n",
    "# List of 2D arrays for testing\n",
    "arrays_2d = [\n",
    "    np.random.rand(28, 28),                         # random grayscale image (like MNIST)\n",
    "    np.eye(50),                                     # identity matrix\n",
    "    np.outer(np.sin(np.linspace(0, 4*np.pi, 50)),\n",
    "             np.cos(np.linspace(0, 4*np.pi, 50))),  # 2D sinusoidal pattern\n",
    "    np.random.normal(0, 1, (100, 100)),             # large noisy matrix\n",
    "    np.tile(np.arange(50), (50, 1)),                # horizontal gradient\n",
    "    np.tile(np.arange(50).reshape(-1, 1), (1, 50)), # vertical gradient\n",
    "    np.zeros((64, 64)),                             # mostly zero\n",
    "    np.random.randint(0, 2, (64, 64)),              # binary image\n",
    "    np.diag(np.linspace(0, 1, 100)),                # diagonal ramp\n",
    "    np.log1p(np.abs(np.random.randn(50, 50)*10)),   # log-distributed noise\n",
    "]\n",
    "\n",
    "# Plot and display each one\n",
    "for i, arr in enumerate(arrays_2d):\n",
    "    filename = f'../plot_outputs/plot2d_{i}.png'\n",
    "    plot(arr, filename=filename, show=False)\n",
    "    display(Image(filename))\n"
   ]
  }
 ],
 "metadata": {
  "kernelspec": {
   "display_name": "atp",
   "language": "python",
   "name": "python3"
  },
  "language_info": {
   "codemirror_mode": {
    "name": "ipython",
    "version": 3
   },
   "file_extension": ".py",
   "mimetype": "text/x-python",
   "name": "python",
   "nbconvert_exporter": "python",
   "pygments_lexer": "ipython3",
   "version": "3.11.11"
  }
 },
 "nbformat": 4,
 "nbformat_minor": 5
}
